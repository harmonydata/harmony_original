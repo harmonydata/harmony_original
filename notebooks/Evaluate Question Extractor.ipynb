{
 "cells": [
  {
   "cell_type": "markdown",
   "id": "25dd275c",
   "metadata": {},
   "source": [
    "# Evaluate the code to extract questions and Likert scales from PDFs"
   ]
  },
  {
   "cell_type": "code",
   "execution_count": 23,
   "id": "b6777a77",
   "metadata": {},
   "outputs": [
    {
     "name": "stdout",
     "output_type": "stream",
     "text": [
      "Beck Depression Inventory English.pdf.pkl\n",
      "CES_D English.pdf.pkl\n",
      "UCLA Loneliness Scale English.pdf.pkl\n",
      "APA DSM5 Severity Measure for Depression English.pdf.pkl\n",
      "Beck Depression Inventory Portuguese.pdf.pkl\n",
      "De Jong Gierveld Loneliness Scale English.pdf.pkl\n",
      "GAD-7 English.pdf.pkl\n",
      "RCADS Child Reported English.pdf.pkl\n",
      "Adult ADHD Self-Report Scale English.pdf.pkl\n",
      "SCARED English.pdf.pkl\n"
     ]
    }
   ],
   "source": [
    "import os\n",
    "import pickle as pkl\n",
    "import re\n",
    "\n",
    "import sys\n",
    "\n",
    "sys.path.append(\"../front_end\")\n",
    "\n",
    "from langdetect import detect\n",
    "\n",
    "from utils.options_extractor import add_candidate_options\n",
    "from utils.question_extractor import QuestionExtractor\n",
    "from utils.question_extractor import process_text, convert_to_dataframe\n",
    "\n",
    "INPUT_FOLDER = \"../data/preprocessed_pkl/\"\n",
    "question_extractor = QuestionExtractor()\n",
    "\n",
    "\n",
    "GOLD_FOLDER = \"../data/gold_standard_extraction/\"\n",
    "gold_files = set(os.listdir(GOLD_FOLDER))\n",
    "\n",
    "GOLD_FOLDER_2 = \"../front_end/hard_coded_questionnaires/\"\n",
    "gold_files = gold_files.union(set(os.listdir(GOLD_FOLDER)))\n",
    "\n",
    "OUTPUT_FOLDER = \"output_question_extraction/\"\n",
    "\n",
    "try:\n",
    "    os.stat(OUTPUT_FOLDER)\n",
    "except:\n",
    "    os.mkdir(OUTPUT_FOLDER)\n",
    "\n",
    "file_to_pages = {}\n",
    "for root, folder, files in os.walk(INPUT_FOLDER):\n",
    "    for file_name in files:\n",
    "        if not file_name.endswith(\"pkl\"):\n",
    "            continue\n",
    "        print(file_name)\n",
    "        \n",
    "        pdf_file = re.sub(\".pkl\", \"\", file_name)\n",
    "        \n",
    "        annotations_file = re.sub(\".pdf\", \".csv\", pdf_file)\n",
    "        if annotations_file not in gold_files:\n",
    "            continue\n",
    "\n",
    "        full_file = INPUT_FOLDER + \"/\" + file_name\n",
    "        #         print (full_file)\n",
    "        with open(full_file, 'rb') as f:\n",
    "            pages = pkl.load(f)\n",
    "        file_to_pages[pdf_file] = pages"
   ]
  },
  {
   "cell_type": "code",
   "execution_count": 25,
   "id": "f06139ac",
   "metadata": {},
   "outputs": [
    {
     "name": "stdout",
     "output_type": "stream",
     "text": [
      "Processing Beck Depression Inventory English.pdf\n",
      "31\n",
      "40\n",
      "46\n",
      "64\n",
      "83\n",
      "95\n",
      "105\n",
      "118\n",
      "137\n",
      "147\n",
      "161\n",
      "182\n",
      "199\n",
      "214\n",
      "228\n",
      "242\n",
      "256\n",
      "265\n",
      "278\n",
      "290\n",
      "304\n",
      "316\n",
      "326\n",
      "335\n",
      "348\n",
      "359\n",
      "368\n",
      "377\n",
      "387\n",
      "402\n",
      "416\n",
      "429\n",
      "444\n",
      "457\n",
      "475\n",
      "485\n",
      "501\n",
      "513\n",
      "525\n",
      "535\n",
      "561\n",
      "576\n",
      "588\n",
      "604\n",
      "617\n",
      "629\n",
      "645\n",
      "659\n",
      "676\n",
      "690\n",
      "704\n",
      "720\n",
      "735\n",
      "752\n",
      "766\n",
      "784\n",
      "797\n",
      "809\n",
      "824\n",
      "838\n",
      "853\n",
      "864\n",
      "878\n",
      "901\n",
      "925\n",
      "937\n",
      "950\n",
      "961\n",
      "975\n",
      "986\n",
      "1001\n",
      "1011\n",
      "1025\n",
      "1040\n",
      "1051\n",
      "1062\n",
      "1076\n",
      "1090\n",
      "1111\n",
      "1131\n",
      "1154\n",
      "1170\n",
      "1185\n",
      "1196\n",
      "Processing UCLA Loneliness Scale English.pdf\n"
     ]
    },
    {
     "name": "stderr",
     "output_type": "stream",
     "text": [
      "/media/thomas/642d0db5-2c98-4156-b591-1a3572c5868c/projects_client/wellcome/harmony/notebooks/../front_end/utils/question_extractor.py:129: SettingWithCopyWarning: \n",
      "A value is trying to be set on a copy of a slice from a DataFrame\n",
      "\n",
      "See the caveats in the documentation: https://pandas.pydata.org/pandas-docs/stable/user_guide/indexing.html#returning-a-view-versus-a-copy\n",
      "  df_pred.rename(columns={\"preceding_bullet_value\": \"question_no\"}, inplace=True)\n",
      "/media/thomas/642d0db5-2c98-4156-b591-1a3572c5868c/projects_client/wellcome/harmony/notebooks/../front_end/utils/options_extractor.py:65: SettingWithCopyWarning: \n",
      "A value is trying to be set on a copy of a slice from a DataFrame.\n",
      "Try using .loc[row_indexer,col_indexer] = value instead\n",
      "\n",
      "See the caveats in the documentation: https://pandas.pydata.org/pandas-docs/stable/user_guide/indexing.html#returning-a-view-versus-a-copy\n",
      "  df_questions[\"options_spans\"] = candidate_options_per_question\n",
      "/media/thomas/642d0db5-2c98-4156-b591-1a3572c5868c/projects_client/wellcome/harmony/notebooks/../front_end/utils/options_extractor.py:66: SettingWithCopyWarning: \n",
      "A value is trying to be set on a copy of a slice from a DataFrame.\n",
      "Try using .loc[row_indexer,col_indexer] = value instead\n",
      "\n",
      "See the caveats in the documentation: https://pandas.pydata.org/pandas-docs/stable/user_guide/indexing.html#returning-a-view-versus-a-copy\n",
      "  df_questions[\"options\"] = df_questions[\"options_spans\"].apply(get_correctly_ordered_options_text)\n",
      "/media/thomas/642d0db5-2c98-4156-b591-1a3572c5868c/projects_client/wellcome/harmony/notebooks/../front_end/utils/question_extractor.py:129: SettingWithCopyWarning: \n",
      "A value is trying to be set on a copy of a slice from a DataFrame\n",
      "\n",
      "See the caveats in the documentation: https://pandas.pydata.org/pandas-docs/stable/user_guide/indexing.html#returning-a-view-versus-a-copy\n",
      "  df_pred.rename(columns={\"preceding_bullet_value\": \"question_no\"}, inplace=True)\n",
      "/media/thomas/642d0db5-2c98-4156-b591-1a3572c5868c/projects_client/wellcome/harmony/notebooks/../front_end/utils/options_extractor.py:65: SettingWithCopyWarning: \n",
      "A value is trying to be set on a copy of a slice from a DataFrame.\n",
      "Try using .loc[row_indexer,col_indexer] = value instead\n",
      "\n",
      "See the caveats in the documentation: https://pandas.pydata.org/pandas-docs/stable/user_guide/indexing.html#returning-a-view-versus-a-copy\n",
      "  df_questions[\"options_spans\"] = candidate_options_per_question\n",
      "/media/thomas/642d0db5-2c98-4156-b591-1a3572c5868c/projects_client/wellcome/harmony/notebooks/../front_end/utils/options_extractor.py:66: SettingWithCopyWarning: \n",
      "A value is trying to be set on a copy of a slice from a DataFrame.\n",
      "Try using .loc[row_indexer,col_indexer] = value instead\n",
      "\n",
      "See the caveats in the documentation: https://pandas.pydata.org/pandas-docs/stable/user_guide/indexing.html#returning-a-view-versus-a-copy\n",
      "  df_questions[\"options\"] = df_questions[\"options_spans\"].apply(get_correctly_ordered_options_text)\n"
     ]
    },
    {
     "name": "stdout",
     "output_type": "stream",
     "text": [
      "Processing APA DSM5 Severity Measure for Depression English.pdf\n",
      "141\n",
      "513\n",
      "526\n",
      "537\n",
      "553\n",
      "565\n",
      "576\n",
      "605\n",
      "623\n",
      "661\n",
      "857\n",
      "Processing Beck Depression Inventory Portuguese.pdf\n",
      "23\n",
      "31\n",
      "41\n",
      "57\n",
      "73\n",
      "93\n",
      "110\n",
      "119\n",
      "134\n",
      "145\n",
      "171\n",
      "182\n",
      "196\n",
      "210\n",
      "229\n",
      "251\n",
      "263\n",
      "273\n",
      "286\n",
      "300\n",
      "314\n",
      "326\n",
      "346\n",
      "352\n",
      "367\n",
      "387\n",
      "402\n",
      "418\n",
      "434\n",
      "442\n",
      "455\n",
      "465\n",
      "472\n",
      "479\n",
      "497\n",
      "511\n",
      "533\n",
      "549\n",
      "563\n",
      "582\n",
      "590\n",
      "604\n",
      "619\n",
      "632\n",
      "643\n",
      "653\n",
      "669\n",
      "694\n",
      "707\n",
      "720\n",
      "726\n",
      "746\n",
      "759\n",
      "773\n",
      "792\n",
      "822\n",
      "835\n",
      "852\n",
      "868\n",
      "885\n",
      "899\n",
      "914\n",
      "933\n",
      "953\n",
      "965\n",
      "983\n",
      "993\n",
      "1009\n",
      "1034\n",
      "1044\n",
      "1057\n",
      "1078\n",
      "1105\n",
      "1118\n",
      "1130\n",
      "1165\n",
      "1177\n",
      "1191\n",
      "1205\n",
      "1222\n",
      "1238\n",
      "1249\n",
      "1260\n",
      "1275\n",
      "1291\n",
      "1323\n",
      "1351\n",
      "1369\n",
      "1384\n",
      "1398\n",
      "1409\n"
     ]
    },
    {
     "name": "stderr",
     "output_type": "stream",
     "text": [
      "/media/thomas/642d0db5-2c98-4156-b591-1a3572c5868c/projects_client/wellcome/harmony/notebooks/../front_end/utils/question_extractor.py:129: SettingWithCopyWarning: \n",
      "A value is trying to be set on a copy of a slice from a DataFrame\n",
      "\n",
      "See the caveats in the documentation: https://pandas.pydata.org/pandas-docs/stable/user_guide/indexing.html#returning-a-view-versus-a-copy\n",
      "  df_pred.rename(columns={\"preceding_bullet_value\": \"question_no\"}, inplace=True)\n",
      "/media/thomas/642d0db5-2c98-4156-b591-1a3572c5868c/projects_client/wellcome/harmony/notebooks/../front_end/utils/options_extractor.py:65: SettingWithCopyWarning: \n",
      "A value is trying to be set on a copy of a slice from a DataFrame.\n",
      "Try using .loc[row_indexer,col_indexer] = value instead\n",
      "\n",
      "See the caveats in the documentation: https://pandas.pydata.org/pandas-docs/stable/user_guide/indexing.html#returning-a-view-versus-a-copy\n",
      "  df_questions[\"options_spans\"] = candidate_options_per_question\n",
      "/media/thomas/642d0db5-2c98-4156-b591-1a3572c5868c/projects_client/wellcome/harmony/notebooks/../front_end/utils/options_extractor.py:66: SettingWithCopyWarning: \n",
      "A value is trying to be set on a copy of a slice from a DataFrame.\n",
      "Try using .loc[row_indexer,col_indexer] = value instead\n",
      "\n",
      "See the caveats in the documentation: https://pandas.pydata.org/pandas-docs/stable/user_guide/indexing.html#returning-a-view-versus-a-copy\n",
      "  df_questions[\"options\"] = df_questions[\"options_spans\"].apply(get_correctly_ordered_options_text)\n",
      "/media/thomas/642d0db5-2c98-4156-b591-1a3572c5868c/projects_client/wellcome/harmony/notebooks/../front_end/utils/question_extractor.py:129: SettingWithCopyWarning: \n",
      "A value is trying to be set on a copy of a slice from a DataFrame\n",
      "\n",
      "See the caveats in the documentation: https://pandas.pydata.org/pandas-docs/stable/user_guide/indexing.html#returning-a-view-versus-a-copy\n",
      "  df_pred.rename(columns={\"preceding_bullet_value\": \"question_no\"}, inplace=True)\n",
      "/media/thomas/642d0db5-2c98-4156-b591-1a3572c5868c/projects_client/wellcome/harmony/notebooks/../front_end/utils/options_extractor.py:65: SettingWithCopyWarning: \n",
      "A value is trying to be set on a copy of a slice from a DataFrame.\n",
      "Try using .loc[row_indexer,col_indexer] = value instead\n",
      "\n",
      "See the caveats in the documentation: https://pandas.pydata.org/pandas-docs/stable/user_guide/indexing.html#returning-a-view-versus-a-copy\n",
      "  df_questions[\"options_spans\"] = candidate_options_per_question\n",
      "/media/thomas/642d0db5-2c98-4156-b591-1a3572c5868c/projects_client/wellcome/harmony/notebooks/../front_end/utils/options_extractor.py:66: SettingWithCopyWarning: \n",
      "A value is trying to be set on a copy of a slice from a DataFrame.\n",
      "Try using .loc[row_indexer,col_indexer] = value instead\n",
      "\n",
      "See the caveats in the documentation: https://pandas.pydata.org/pandas-docs/stable/user_guide/indexing.html#returning-a-view-versus-a-copy\n",
      "  df_questions[\"options\"] = df_questions[\"options_spans\"].apply(get_correctly_ordered_options_text)\n"
     ]
    }
   ],
   "source": [
    "for file, pages in file_to_pages.items():\n",
    "    # if file != \"BHRCS_Parent_report_YSI.pdf\":\n",
    "    #     continue\n",
    "    print(\"Processing\", file)\n",
    "    text = \"\\n\".join(pages)\n",
    "\n",
    "    language = detect(text)\n",
    "\n",
    "    doc = process_text(text, language)\n",
    "\n",
    "    df = convert_to_dataframe(doc)\n",
    "\n",
    "    df_questions = question_extractor.get_questions(df)\n",
    "\n",
    "    add_candidate_options(df_questions, doc)\n",
    "\n",
    "    with open(OUTPUT_FOLDER +  re.sub(r'.pdf', '.csv', file), \"w\", encoding=\"utf-8\") as f:\n",
    "        for i in range(len(df_questions)):\n",
    "            f.write(str(df_questions.question_no.iloc[i]) + \"\\t\" + str(df_questions.question.iloc[i]) + \"\\t\" + str(\n",
    "                df_questions.options.iloc[i]) + \"\\n\")"
   ]
  },
  {
   "cell_type": "code",
   "execution_count": 26,
   "id": "8befb49d",
   "metadata": {},
   "outputs": [],
   "source": [
    "import os, re"
   ]
  },
  {
   "cell_type": "code",
   "execution_count": 27,
   "id": "89b39b4c",
   "metadata": {},
   "outputs": [],
   "source": [
    "gold_standards_and_outputs = []\n",
    "for f in os.listdir(GOLD_FOLDER):\n",
    "    \n",
    "    with open(GOLD_FOLDER + f, \"r\", encoding=\"utf-8\") as fi:\n",
    "        gold_standard = list([l.strip() for l in fi if len(l.strip()) > 0])\n",
    "    with open(OUTPUT_FOLDER + f, \"r\", encoding=\"utf-8\") as fi:\n",
    "        model_output = list([l.strip() for l in fi if len(l.strip()) > 0])\n",
    "    \n",
    "    gold_standards_and_outputs.append((f, gold_standard, model_output))"
   ]
  },
  {
   "cell_type": "code",
   "execution_count": 30,
   "id": "c7d46388",
   "metadata": {
    "scrolled": true
   },
   "outputs": [
    {
     "name": "stdout",
     "output_type": "stream",
     "text": [
      "Correct\tIncorrect\tFile\n",
      "83 \t 2 \t Beck Depression Inventory English.csv\n",
      "0 \t 93 \t Beck Depression Inventory Portuguese.csv\n",
      "0 \t 21 \t UCLA Loneliness Scale English.csv\n",
      "8 \t 2 \t APA DSM5 Severity Measure for Depression English.csv\n"
     ]
    }
   ],
   "source": [
    "print (\"Correct\\tIncorrect\\tFile\")\n",
    "for f, gold_standard, model_output in gold_standards_and_outputs:\n",
    "    correct = set(gold_standard).intersection(set(model_output))\n",
    "    incorrect = set(gold_standard) - set(model_output)\n",
    "    print (len(correct),\"\\t\", len(incorrect), \"\\t\", f)\n",
    "    "
   ]
  },
  {
   "cell_type": "code",
   "execution_count": 31,
   "id": "391315ea",
   "metadata": {},
   "outputs": [
    {
     "name": "stdout",
     "output_type": "stream",
     "text": [
      "Correct\tIncorrect\tFile\n",
      "83 \t 2 \t Beck Depression Inventory English.csv\n",
      "70 \t 23 \t Beck Depression Inventory Portuguese.csv\n",
      "0 \t 21 \t UCLA Loneliness Scale English.csv\n",
      "8 \t 2 \t APA DSM5 Severity Measure for Depression English.csv\n"
     ]
    }
   ],
   "source": [
    "print (\"Correct\\tIncorrect\\tFile\")\n",
    "for f, gold_standard, model_output in gold_standards_and_outputs:\n",
    "    \n",
    "    gold_standard = set([s.split(\"\\t\")[1] for s in gold_standard])\n",
    "    model_output = set([s.split(\"\\t\")[1] for s in model_output])\n",
    "    \n",
    "    correct = set(gold_standard).intersection(set(model_output))\n",
    "    incorrect = set(gold_standard) - set(model_output)\n",
    "    print (len(correct),\"\\t\", len(incorrect), \"\\t\", f)\n"
   ]
  },
  {
   "cell_type": "code",
   "execution_count": 32,
   "id": "3cdc74f0",
   "metadata": {},
   "outputs": [
    {
     "data": {
      "text/plain": [
       "{'Feeling bad about yourself—or feeling that you are a failure, or that you have let yourself or your family down?',\n",
       " 'Feeling down, depressed, irritable, or hopeless?',\n",
       " 'Feeling tired, or having little energy?',\n",
       " 'Little interest or pleasure in doing things?',\n",
       " 'Moving or speaking so slowly that other people could have noticed? Or the opposite—being so fidgety or restless that you were moving around a lot more than usual?',\n",
       " 'Poor appetite, weight loss, or overeating?',\n",
       " 'Question',\n",
       " 'Thoughts that you would be better off dead, or of hurting yourself in some way?',\n",
       " 'Trouble concentrating on things like school work, reading, or watching TV?',\n",
       " 'Trouble falling asleep, staying asleep, or sleeping too much?'}"
      ]
     },
     "execution_count": 32,
     "metadata": {},
     "output_type": "execute_result"
    }
   ],
   "source": [
    "gold_standard"
   ]
  },
  {
   "cell_type": "code",
   "execution_count": 33,
   "id": "e8e879b3",
   "metadata": {},
   "outputs": [
    {
     "data": {
      "text/plain": [
       "{'Feeling bad about yourself—or feeling that you are a failure, or that you have let yourself or your family down?',\n",
       " 'Feeling down, depressed, irritable, or hopeless?',\n",
       " 'Feeling tired, or having little energy?',\n",
       " 'Little interest or pleasure in doing things?',\n",
       " 'Moving or speaking so slowly that other people could have noticed?',\n",
       " 'Nearly every day).',\n",
       " 'Poor appetite, weight loss, or overeating?',\n",
       " 'Thoughts that you would be better off dead, or of hurting yourself in some way?',\n",
       " 'Trouble concentrating on things like school work, reading, or watching TV?',\n",
       " 'Trouble falling asleep, staying asleep, or sleeping too much?',\n",
       " 'modified for Adolescents'}"
      ]
     },
     "execution_count": 33,
     "metadata": {},
     "output_type": "execute_result"
    }
   ],
   "source": [
    "model_output"
   ]
  },
  {
   "cell_type": "code",
   "execution_count": 34,
   "id": "3c93021b",
   "metadata": {},
   "outputs": [
    {
     "name": "stdout",
     "output_type": "stream",
     "text": [
      "Moving or speaking so slowly that other people could have noticed?\n",
      "modified for Adolescents\n",
      "Nearly every day).\n"
     ]
    }
   ],
   "source": [
    "for s in model_output:\n",
    "    if s not in gold_standard:\n",
    "        print (s)"
   ]
  },
  {
   "cell_type": "code",
   "execution_count": 35,
   "id": "d2fcbdba",
   "metadata": {},
   "outputs": [
    {
     "name": "stdout",
     "output_type": "stream",
     "text": [
      "Moving or speaking so slowly that other people could have noticed? Or the opposite—being so fidgety or restless that you were moving around a lot more than usual?\n",
      "Question\n"
     ]
    }
   ],
   "source": [
    "for s in gold_standard:\n",
    "    if s not in model_output:\n",
    "        print (s)"
   ]
  },
  {
   "cell_type": "code",
   "execution_count": null,
   "id": "500b5b18",
   "metadata": {},
   "outputs": [],
   "source": []
  }
 ],
 "metadata": {
  "kernelspec": {
   "display_name": "Python 3 (ipykernel)",
   "language": "python",
   "name": "python3"
  },
  "language_info": {
   "codemirror_mode": {
    "name": "ipython",
    "version": 3
   },
   "file_extension": ".py",
   "mimetype": "text/x-python",
   "name": "python",
   "nbconvert_exporter": "python",
   "pygments_lexer": "ipython3",
   "version": "3.10.4"
  }
 },
 "nbformat": 4,
 "nbformat_minor": 5
}
